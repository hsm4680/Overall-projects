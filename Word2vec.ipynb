{
  "nbformat": 4,
  "nbformat_minor": 0,
  "metadata": {
    "colab": {
      "name": "Word2vec",
      "provenance": [],
      "collapsed_sections": [],
      "include_colab_link": true
    },
    "kernelspec": {
      "name": "python3",
      "display_name": "Python 3"
    },
    "language_info": {
      "name": "python"
    }
  },
  "cells": [
    {
      "cell_type": "markdown",
      "metadata": {
        "id": "view-in-github",
        "colab_type": "text"
      },
      "source": [
        "<a href=\"https://colab.research.google.com/github/hsm4680/Overall-projects/blob/master/Word2vec.ipynb\" target=\"_parent\"><img src=\"https://colab.research.google.com/assets/colab-badge.svg\" alt=\"Open In Colab\"/></a>"
      ]
    },
    {
      "cell_type": "markdown",
      "metadata": {
        "id": "AOvwsqRWyO7y"
      },
      "source": [
        "\n",
        "###Word2vec\n",
        " 단어를 벡터화하면 단어의 '문맥적 의미'를 보존할 수 있으며, 유사한 단어들끼리는 모이 단어 벡터들의 코사인 유사도 등을 통해 얼마나 단어들이 가까운 의미를 지녔는지 측정할 수 있다. 단어의 관계도 알 수 있는데 유명한 예시인 king - man + woman = queen 처럼, 벡터 계산을 통해 이를 찾아낼 수 있다.\n",
        "\n"
      ]
    },
    {
      "cell_type": "markdown",
      "metadata": {
        "id": "o2MemS5uygNF"
      },
      "source": [
        "### Word2vec의  2가지 구현 방법\n",
        "하나는 CBOW(continuous bag of words)이고 다른 하나는 skip-gram이다. skip-gram의 성능이 조금 더 좋으므로 skip-gram을 사용"
      ]
    },
    {
      "cell_type": "markdown",
      "metadata": {
        "id": "KNAaLqiszCwN"
      },
      "source": [
        "위의 문장이 있다고 할 때 우리는 특정 '윈도우 사이즈'를 정해서 문장에서 윈도우를 옮겨가며 가운데 있는 것을 타겟 워드, 나머지는 컨텍스트 워드라고 정한다. \n",
        "\n",
        "만약에 윈도우 사이즈를 1로 하면 target 단어의 왼쪽, 오른쪽 단어가 context 단어가 된다. 그러면 이를 (context, target) 쌍으로 만들어보면 다음과 같은 결과를 얻을 수 있다.\n",
        "\n",
        "([the, brown], quick), ([quick fox], brown), ([brown, jumped], fox), …\n",
        "\n",
        "​\n",
        "\n",
        "skip-gram 의 목표는 현재 target word가 주어졌을 때 context word가 나올 확률을 최대화하는 것이다.  아래와 같은 objective funtion을 통해 이를 해줄 수 있다."
      ]
    },
    {
      "cell_type": "code",
      "metadata": {
        "id": "DVqLxpylnpFe",
        "colab": {
          "base_uri": "https://localhost:8080/"
        },
        "outputId": "6adc0dcb-d9e0-4491-f4c4-3d542773abea"
      },
      "source": [
        "# google colab의 드라이브를 불러와 코드에 반영하기 위한 드라이브 마운트 작업\n",
        "# [보기] > [목차]를 선택하면 아래 코드가 자동 삽입되나 지금은 구글 드라이브와 연동하여 gdrive 사용\n",
        "\n",
        "from google.colab import drive\n",
        "drive.mount('/content/gdrive')"
      ],
      "execution_count": null,
      "outputs": [
        {
          "output_type": "stream",
          "name": "stdout",
          "text": [
            "Mounted at /content/gdrive\n"
          ]
        }
      ]
    },
    {
      "cell_type": "code",
      "metadata": {
        "id": "D46h061ZkpXQ"
      },
      "source": [
        "# os 모듈은 Operation System의 약자로, 운영체제에서 제공되는 기능을 파이썬에서 수행할 수 있게 함.\n",
        "# 파이썬을 이용해 파일을 복사하거나 디렉토리를 생성하고, 특정 디렉토리 내의 파일을 불러오는 등으로 사용됨.\n",
        "\n",
        "import os\n",
        "# os.chdir 함수는 R에서 setwd()와 동일한 역할을 하여 현재 디렉토리를 ''로 변경함.\n",
        "os.chdir('/content/gdrive/My Drive/Colab Notebooks/')\n",
        "# os.getcwd()는 현재 디렉토리(Current Working Directory)의 경로를 출력함.\n",
        "current_path = os.getcwd()\n",
        "# os.path.join()은 현재 디렉토리의 절대경로/catdog을 출력함.\n",
        "main_dir = os.path.join(current_path, '2021-data-creator-camp-1030-1')\n",
        "# os.makedirs는 지정된 경로에 맞게 디렉토리를 생성함.\n",
        "# os.mkdir()는 새로운 하위 폴더 하나만을 생성할 수 있음.\n",
        "# os.makedirs()는 경로에 지정된 모든 폴더를 생성함.\n",
        "# exist_ok = True는 해당 경로에 폴더가 실제로 존재하는 경우에는 그냥 넘어가고, 없는 경우에만 생성하게 함.\n",
        "os.makedirs(main_dir, exist_ok=True)\n",
        "\n"
      ],
      "execution_count": null,
      "outputs": []
    },
    {
      "cell_type": "code",
      "metadata": {
        "id": "2GK_pMCYoW-I",
        "colab": {
          "base_uri": "https://localhost:8080/"
        },
        "outputId": "f2ab0f24-9523-48c4-9b39-543fab1f9a7b"
      },
      "source": [
        "# 경고(Warning)는 코드는 작동하나 의도하지 않은 결과일 수 있음을 알릴 때 출력되는 메시지임.\n",
        "# 복잡한 작업일수록 이러한 경고 메시지가 뜰 가능성이 높지만 깔끔한 결과 제시를 방해하는 요소일 때가 많음.\n",
        "# 간단한 경고 필터를 설정해 이러한 경우를 어느 정도 방지함.\n",
        "import warnings \n",
        "warnings.simplefilter('ignore')\n",
        "\n",
        "# matplotlib에서 제공하는 그래프에서 간혹 마이너스(-) 기호가 깨질 때, 이를 표시되게 수정하는 코드\n",
        "mpl.rcParams['axes.unicode_minus'] = False\n",
        "\n",
        "## Random Seed 고정\n",
        "def seed_everything(seed: int = 42):\n",
        "    random.seed(seed)\n",
        "    np.random.seed(seed)\n",
        "    os.environ[\"PYTHONHASHSEED\"] = str(seed)\n",
        "random_state = 42\n",
        "seed_everything(random_state)\n",
        "\n",
        "# 팀 이름 설정\n",
        "team_name = '진리관227호'\n",
        "import warnings\n",
        "warnings.filterwarnings('ignore')\n",
        "\n",
        "# numpy, pandas, matplotlib은 파이썬 데이터 분석의 3대장 격으로 각각 np, pd, plt의 명칭으로 임포트함.\n",
        "\n",
        "# numpy는 데이터 분석을 용이하게 하기 위한 ndarray(np.array) 구조를 지원하여 행렬 연산을 가능하게 함.\n",
        "import numpy as np # linear algebra\n",
        "# pandas는 파이썬 데이터 분석에 필수적인 패키지로 시리즈, 데이터프레임, 패널 데이터 형태를 지원함.\n",
        "import pandas as pd # data processing, CSV file I/O (e.g. pd.read_csv)\n",
        "# matplotlib는 파이썬의 시각화 기능을 주로 담당하는 패키지로 거의 모든 형태의 플롯 생성이 가능함.\n",
        "import matplotlib.pyplot as plt\n",
        "import matplotlib as mpl\n",
        "\n",
        "# seaborn은 matplotlib과 함께 파이썬의 대표적인 시각화 도구로, 그래프 스타일 설정 면에서 강점이 있음.\n",
        "# 정교한 그래프 크기 조절이나 범례 값 조정 시에는 matplotlib을 함께 사용해야 함.\n",
        "import seaborn as sns\n",
        "\n",
        "# Random 모듈은 random() 함수로 대표되며 난수 생성에 주로 이용됨.\n",
        "import random\n",
        "\n",
        "# %matplotlib inline은 브라우저 상에서 바로 결과를 확인할 수 있게 함.\n",
        "%matplotlib inline\n",
        "\n",
        "# nltk는 파이썬에서 자연어 처리 및 문서 분석을 담당하는 텍스트마이닝 핵심 패키지임.\n",
        "# 말뭉치, 토큰 생성, 형태소 분석, 품사 태깅 등의 기능을 제공함.\n",
        "import nltk\n",
        "# NLTK 라이브러리 기반 문장 / 단어 구분을 위해 관련 기능을 추가함.\n",
        "from nltk import word_tokenize, sent_tokenize\n",
        "# 불용어(stopword)는 큰 의미가 없는 단어 토큰으로, 문장에서 자주 등장하나 분석에 도움이 되지 않는 단어로 미리 정의됨.\n",
        "nltk.download('stopwords')\n",
        "# punkt는 텍스트 파일을 문장 단위로 분해하는 Sentence Tokenize에 활용되는 모델로, 약어(Ph.D.의 .)와 마침표(.) 등을 구분함.\n",
        "nltk.download('punkt')\n",
        "# 다운로드된 불용어 토큰을 임포트하여 분석에 활용할 수 있게 함.\n",
        "from nltk.corpus import stopwords\n",
        "\n",
        "# BeautifulSoup는 웹 페이지에 해당하는 HTML 문서를 탐색해 원하는 부분만 뽑아낼 수 있게 만들어진 라이브러리임.\n",
        "from bs4 import BeautifulSoup\n",
        "\n",
        "# 파이썬에서 정규표현식을 사용하기 위해 필요한 모듈(Regular Expression의 약어), 기본 설치됨.\n",
        "import re\n",
        "\n",
        "\n",
        "## Model\n",
        "# 데이터를 훈련 데이터와 평가 데이터로 구분하기 위해 이용함.\n",
        "from sklearn.model_selection import train_test_split\n",
        "# 인공신경망, 딥러닝 모델에서는 변수들이 0과 1 사이의 범위로 변환되어 있어야 함.\n",
        "# MinMaxScaler 메서드는 위와 같은 역할을 수행할 수 있음.\n",
        "# StandardScaler는 평균과 표준편차에 근거해 데이터를 표준화함.\n",
        "# (만약 이상치가 강하게 의심되는 경우 중앙값과 IQR에 근거한 RobustScaler를 사용할 수 있음.)\n",
        "# Categorical 데이터는 데이터가 수치가 아니며, 이는 기계학습 모델이 받아들일 수 없는 형태임.\n",
        "# LabelEncoder는 Categorical 데이터를 Numerical 데이터로 변환하는 기능을 수행함.\n",
        "from sklearn.preprocessing import MinMaxScaler, StandardScaler, LabelEncoder\n",
        "\n",
        "# 로지스틱 회귀분석과 랜덤 포레스트를 사용하기 위한 임포트\n",
        "from sklearn.linear_model import LogisticRegression\n",
        "from sklearn.ensemble import RandomForestClassifier\n",
        "\n",
        "# 분류 성능을 측정하기 위한 평가 지표를 임포트하는 부분.\n",
        "# accuracy : 전체 평가 데이터에서 맞게 예측한 데이터의 비율 ((TP + TN) / Total)\n",
        "# f1 : 정밀도(Precision), 재현율(Recall)이 주로 1로 치우친다는 점을 고려해 한쪽으로 치우치지 않을 때 점수가 올라가는 평가 지표.\n",
        "# confusion_matrix : 목표 변수의 원래 클래스와 예측한 클래스가 일치하는지를 혼동행렬로 표현할 수 있음.\n",
        "# roc_auc_score : ROC 곡선 아래 면적에 기반한 점수, TPR이나 FPR을 복합적으로 고려하여 평가함.\n",
        "from sklearn.metrics import accuracy_score, f1_score, confusion_matrix, roc_auc_score\n",
        "\n",
        "# 위의 모델은 로지스틱 회귀, 랜덤 포레스트 등 기계학습을 위한 임포트임.\n",
        "# 아래 부분은 Keras와 관련 함수에 기반해 같은 분류 작업을 딥러닝으로 수행하기 위한 임포트임.\n",
        "\n",
        "import keras\n",
        "# One-Hot Encoding은 단어 집합의 크기를 벡터의 차원으로 하고, 표현하고 싶은 단어의 인덱스에만 1을 부여하는 형태임.\n",
        "# Tokenizer는 단어의 빈도 수를 계산하기 위한 목적 등으로 사용되는 정수 인코딩을 지원함.\n",
        "from keras.preprocessing.text import one_hot, Tokenizer\n",
        "# 길이가 동일한 문서들은 하나의 행렬로 인식해 병렬 작업이 가능함. 따라서 문장의 길이를 맞추면 작업 속도가 상승함.\n",
        "# pad_sequences()는 정수 인코딩을 거친 데이터에 대해 가장 길이가 긴 문장을 기준으로 벡터의 차원을 잡고 빈 부분을 0으로 채움.\n",
        "# 이때, 문서의 앞에 0을 채우므로 뒤에 채우고 싶다면 padding = \"post\" 인자를 추가해야 함.\n",
        "from keras.preprocessing.sequence import pad_sequences\n",
        "\n",
        "# 일반적인 다층 퍼셉트론 신경망, 특히 이미지 분석은 단계적으로 입력층 - 은닉층 - 출력층을 쌓아나감.\n",
        "# Sequential은 위처럼 model.add()에 기반한 단계적인 층 쌓기에 적합한 방법론임.\n",
        "from keras.models import Sequential\n",
        "\n",
        "# Dense : 모든 노드 사이에 연결선이 형성되는 Fully Connected Layer인 Dense 레이어를 사용하게 하는 함수\n",
        "# Flatten : 2차원 데이터를 Fully Connected Layer에 적용할 수 있도록 1차원으로 바꾸는 함수\n",
        "# Embedding : 문자 입력에 대한 학습을 담당하는 Layer로, 단어를 의미론적 기하공간에 매핑할 수 있도록 벡터화시키는 역할을 담당함.\n",
        "# LSTM : 순환 신경망을 구성하는 레이어로, 과거의 출력 데이터를 재귀적으로 참조하는 방식으로 기능함.\n",
        "# SpatialDropout1D : 공간적인 드롭아웃을 지원하는 함수로, dropout이 잘 먹히지 않는 상황에서 대안으로 사용됨.\n",
        "# Input : 입력층을 별도로 정의하기 위해 사용하는 함수\n",
        "# Bidirectional : LSTM의 양방향 수행을 지원하는 함수로, LSTM 내에서 순행과 역행 참조를 모두 가능하게 함.\n",
        "# Dropout : 어떤 레이어의 모든 노드에서 나가는 Activation을 제거하여 과적합을 방지하는 함수\n",
        "from keras.layers import Dense, Flatten, Embedding, LSTM, SpatialDropout1D, Input, Bidirectional,Dropout\n",
        "\n",
        "# EarlyStopping은 학습 진행 도중 손실 함수가 더 이상 줄어들지 않는 조건에서 실행되며 학습을 자동으로 중단함.\n",
        "# ReduceLROnPlateau는 학습 진행 도중 평가 지표가 더 이상 향상되지 않는 조건에서 실행되며 학습률을 자동으로 조정함.\n",
        "from keras.callbacks import EarlyStopping, ReduceLROnPlateau\n",
        "\n",
        "# Keras 기반 딥러닝 모형의 과적합을 막기 위한 L2 규제 (Ridge Regression)를 도입하는 부분.\n",
        "from keras.regularizers import l2\n",
        "\n",
        "# Input data files are available in the \"../input/\" directory.\n",
        "# For example, running this (by clicking run or pressing Shift+Enter) will list the files in the input directory\n"
      ],
      "execution_count": null,
      "outputs": [
        {
          "output_type": "stream",
          "name": "stdout",
          "text": [
            "[nltk_data] Downloading package stopwords to /root/nltk_data...\n",
            "[nltk_data]   Unzipping corpora/stopwords.zip.\n",
            "[nltk_data] Downloading package punkt to /root/nltk_data...\n",
            "[nltk_data]   Unzipping tokenizers/punkt.zip.\n"
          ]
        }
      ]
    },
    {
      "cell_type": "markdown",
      "metadata": {
        "id": "NcnUEfS503MU"
      },
      "source": [
        "### 데이터 준비"
      ]
    },
    {
      "cell_type": "markdown",
      "metadata": {
        "id": "5ci3XbTqzdmL"
      },
      "source": [
        "Word2vec은 label 되지 않은 데이터를 통해서도 훈련할 수 있기 때문에 요번에는 labeled과 unlabeled train data를 모두 사용하자."
      ]
    },
    {
      "cell_type": "code",
      "metadata": {
        "id": "Xt0P6kqnjnz3"
      },
      "source": [
        "# Pandas에서 제공하는 read_csv는 R과 동일한 역할을 수행함.\n",
        "# header = 0은 첫번째 행이 변수명임을 의미함. delimiter = \"\\t\" 이므로 구분자는 tab이며, quoting = 3에 따라 큰따옴표는 무시됨.\n",
        "raw_train_data_labeled = pd.read_csv(main_dir+'/labeledTrainData.tsv', header=0,delimiter=\"\\t\", quoting=3)\n",
        "raw_test_data = pd.read_csv(main_dir+'/testData.tsv', header=0,delimiter=\"\\t\", quoting=3)\n",
        "raw_train_data_unlabeled = pd.read_csv(main_dir+'/unlabeledTrainData.tsv', header=0,delimiter=\"\\t\", quoting=3)\n",
        "\n"
      ],
      "execution_count": null,
      "outputs": []
    },
    {
      "cell_type": "code",
      "metadata": {
        "id": "DcAhFcqspU_H",
        "colab": {
          "base_uri": "https://localhost:8080/",
          "height": 206
        },
        "outputId": "e56b8d7d-d0d0-4d9c-c425-cc76f38968c1"
      },
      "source": [
        "raw_train_data_labeled.head()"
      ],
      "execution_count": null,
      "outputs": [
        {
          "output_type": "execute_result",
          "data": {
            "text/html": [
              "<div>\n",
              "<style scoped>\n",
              "    .dataframe tbody tr th:only-of-type {\n",
              "        vertical-align: middle;\n",
              "    }\n",
              "\n",
              "    .dataframe tbody tr th {\n",
              "        vertical-align: top;\n",
              "    }\n",
              "\n",
              "    .dataframe thead th {\n",
              "        text-align: right;\n",
              "    }\n",
              "</style>\n",
              "<table border=\"1\" class=\"dataframe\">\n",
              "  <thead>\n",
              "    <tr style=\"text-align: right;\">\n",
              "      <th></th>\n",
              "      <th>id</th>\n",
              "      <th>sentiment</th>\n",
              "      <th>review</th>\n",
              "    </tr>\n",
              "  </thead>\n",
              "  <tbody>\n",
              "    <tr>\n",
              "      <th>0</th>\n",
              "      <td>\"5814_8\"</td>\n",
              "      <td>1</td>\n",
              "      <td>\"With all this stuff going down at the moment ...</td>\n",
              "    </tr>\n",
              "    <tr>\n",
              "      <th>1</th>\n",
              "      <td>\"2381_9\"</td>\n",
              "      <td>1</td>\n",
              "      <td>\"\\\"The Classic War of the Worlds\\\" by Timothy ...</td>\n",
              "    </tr>\n",
              "    <tr>\n",
              "      <th>2</th>\n",
              "      <td>\"7759_3\"</td>\n",
              "      <td>0</td>\n",
              "      <td>\"The film starts with a manager (Nicholas Bell...</td>\n",
              "    </tr>\n",
              "    <tr>\n",
              "      <th>3</th>\n",
              "      <td>\"3630_4\"</td>\n",
              "      <td>0</td>\n",
              "      <td>\"It must be assumed that those who praised thi...</td>\n",
              "    </tr>\n",
              "    <tr>\n",
              "      <th>4</th>\n",
              "      <td>\"9495_8\"</td>\n",
              "      <td>1</td>\n",
              "      <td>\"Superbly trashy and wondrously unpretentious ...</td>\n",
              "    </tr>\n",
              "  </tbody>\n",
              "</table>\n",
              "</div>"
            ],
            "text/plain": [
              "         id  sentiment                                             review\n",
              "0  \"5814_8\"          1  \"With all this stuff going down at the moment ...\n",
              "1  \"2381_9\"          1  \"\\\"The Classic War of the Worlds\\\" by Timothy ...\n",
              "2  \"7759_3\"          0  \"The film starts with a manager (Nicholas Bell...\n",
              "3  \"3630_4\"          0  \"It must be assumed that those who praised thi...\n",
              "4  \"9495_8\"          1  \"Superbly trashy and wondrously unpretentious ..."
            ]
          },
          "metadata": {},
          "execution_count": 13
        }
      ]
    },
    {
      "cell_type": "code",
      "metadata": {
        "id": "E5TrCalB1qWt",
        "colab": {
          "base_uri": "https://localhost:8080/",
          "height": 203
        },
        "outputId": "c2406490-88d7-48aa-cec1-b47f3a05e0f3"
      },
      "source": [
        "raw_train_data_unlabeled.head()"
      ],
      "execution_count": null,
      "outputs": [
        {
          "output_type": "execute_result",
          "data": {
            "text/html": [
              "<div>\n",
              "<style scoped>\n",
              "    .dataframe tbody tr th:only-of-type {\n",
              "        vertical-align: middle;\n",
              "    }\n",
              "\n",
              "    .dataframe tbody tr th {\n",
              "        vertical-align: top;\n",
              "    }\n",
              "\n",
              "    .dataframe thead th {\n",
              "        text-align: right;\n",
              "    }\n",
              "</style>\n",
              "<table border=\"1\" class=\"dataframe\">\n",
              "  <thead>\n",
              "    <tr style=\"text-align: right;\">\n",
              "      <th></th>\n",
              "      <th>id</th>\n",
              "      <th>review</th>\n",
              "    </tr>\n",
              "  </thead>\n",
              "  <tbody>\n",
              "    <tr>\n",
              "      <th>0</th>\n",
              "      <td>\"9999_0\"</td>\n",
              "      <td>\"Watching Time Chasers, it obvious that it was...</td>\n",
              "    </tr>\n",
              "    <tr>\n",
              "      <th>1</th>\n",
              "      <td>\"45057_0\"</td>\n",
              "      <td>\"I saw this film about 20 years ago and rememb...</td>\n",
              "    </tr>\n",
              "    <tr>\n",
              "      <th>2</th>\n",
              "      <td>\"15561_0\"</td>\n",
              "      <td>\"Minor Spoilers&lt;br /&gt;&lt;br /&gt;In New York, Joan B...</td>\n",
              "    </tr>\n",
              "    <tr>\n",
              "      <th>3</th>\n",
              "      <td>\"7161_0\"</td>\n",
              "      <td>\"I went to see this film with a great deal of ...</td>\n",
              "    </tr>\n",
              "    <tr>\n",
              "      <th>4</th>\n",
              "      <td>\"43971_0\"</td>\n",
              "      <td>\"Yes, I agree with everyone on this site this ...</td>\n",
              "    </tr>\n",
              "  </tbody>\n",
              "</table>\n",
              "</div>"
            ],
            "text/plain": [
              "          id                                             review\n",
              "0   \"9999_0\"  \"Watching Time Chasers, it obvious that it was...\n",
              "1  \"45057_0\"  \"I saw this film about 20 years ago and rememb...\n",
              "2  \"15561_0\"  \"Minor Spoilers<br /><br />In New York, Joan B...\n",
              "3   \"7161_0\"  \"I went to see this film with a great deal of ...\n",
              "4  \"43971_0\"  \"Yes, I agree with everyone on this site this ..."
            ]
          },
          "metadata": {},
          "execution_count": 10
        }
      ]
    },
    {
      "cell_type": "markdown",
      "metadata": {
        "id": "rPMc6wwGnwQn"
      },
      "source": [
        "unlabeled 의 경우 sentiment가 없다."
      ]
    },
    {
      "cell_type": "code",
      "metadata": {
        "id": "30trUXunu3Kq"
      },
      "source": [
        "X = raw_train_data_labeled['review']\n",
        "y = raw_train_data_labeled['sentiment']\n"
      ],
      "execution_count": null,
      "outputs": []
    },
    {
      "cell_type": "code",
      "metadata": {
        "id": "Rx5ZSxhbUlNi"
      },
      "source": [
        "review_data = X.append(raw_test_data['review'])"
      ],
      "execution_count": null,
      "outputs": []
    },
    {
      "cell_type": "code",
      "metadata": {
        "colab": {
          "base_uri": "https://localhost:8080/"
        },
        "id": "AKL9xeZEUmu4",
        "outputId": "073e7cfa-aaf5-41bb-c30a-5c85d8cf9fa9"
      },
      "source": [
        "review_data.shape"
      ],
      "execution_count": null,
      "outputs": [
        {
          "output_type": "execute_result",
          "data": {
            "text/plain": [
              "(50000,)"
            ]
          },
          "metadata": {},
          "execution_count": 13
        }
      ]
    },
    {
      "cell_type": "code",
      "metadata": {
        "id": "sALjfT17UpFn"
      },
      "source": [
        "ntrain = X.shape[0]\n",
        "df = raw_train_data_labeled.append(raw_test_data, sort=False)\n",
        "df = df.drop(['sentiment'], axis=1)\n",
        "df_review = df['review']"
      ],
      "execution_count": null,
      "outputs": []
    },
    {
      "cell_type": "code",
      "metadata": {
        "id": "bGe7A69UUyRB",
        "colab": {
          "base_uri": "https://localhost:8080/",
          "height": 239
        },
        "outputId": "fda38fad-64ea-46a2-d0ed-ba8dd323f1c7"
      },
      "source": [
        "'''\n",
        "Here we will do preprocessing\n",
        "1. Removing punctuations\n",
        "2. Lowering all words\n",
        "3. removing non-alphabet things\n",
        "4. removing stop words\n",
        "5. Tokenizing the sentence\n",
        "'''\n",
        "# string은 자주 사용하는 문자열(알파벳 대소문자, 숫자 등)을 다수 저장하고 있음.\n",
        "import string\n",
        "\n",
        "# lines는 위에서 큰따옴표로 묶인 문장들을 각각 리스트의 element로 변환해 저장함.\n",
        "review_lines = list()\n",
        "lines = review_data.values.tolist()\n",
        "\n",
        "# 단어 형태이면서 불용어가 아닌 소문자 토큰만을 남겨 review_lines에 저장하는 부분.\n",
        "for line in lines:\n",
        "    \n",
        "    '''\n",
        "    breaks line into it's sub parts like each word and comma etc,\n",
        "    https://pythonspot.com/tokenizing-words-and-sentences-with-nltk/\n",
        "    '''\n",
        "    tokens = word_tokenize(line)   \n",
        "    \n",
        "     #convert to lower case\n",
        "    tokens = [w.lower() for w in tokens]\n",
        "    \n",
        "    #remove punctuation from each word\n",
        "    # brief detail: https://pythonadventures.wordpress.com/2017/02/05/remove-punctuations-from-a-text/\n",
        "    table = str.maketrans('','', string.punctuation)\n",
        "    stripped = [w.translate(table) for w in tokens]\n",
        "     \n",
        "    # remove remaining tokens that are not alphabetic\n",
        "    words = [w for w in stripped if w.isalpha()]\n",
        "    \n",
        "    # filter out stop words\n",
        "    stop_words = set(stopwords.words('english'))\n",
        "    words = [w for w in words if w not in stop_words]\n",
        "    \n",
        "    review_lines.append(words)"
      ],
      "execution_count": null,
      "outputs": [
        {
          "output_type": "error",
          "ename": "NameError",
          "evalue": "ignored",
          "traceback": [
            "\u001b[0;31m---------------------------------------------------------------------------\u001b[0m",
            "\u001b[0;31mNameError\u001b[0m                                 Traceback (most recent call last)",
            "\u001b[0;32m<ipython-input-1-1ba9e1dccc64>\u001b[0m in \u001b[0;36m<module>\u001b[0;34m()\u001b[0m\n\u001b[1;32m     12\u001b[0m \u001b[0;31m# lines는 위에서 큰따옴표로 묶인 문장들을 각각 리스트의 element로 변환해 저장함.\u001b[0m\u001b[0;34m\u001b[0m\u001b[0;34m\u001b[0m\u001b[0;34m\u001b[0m\u001b[0m\n\u001b[1;32m     13\u001b[0m \u001b[0mreview_lines\u001b[0m \u001b[0;34m=\u001b[0m \u001b[0mlist\u001b[0m\u001b[0;34m(\u001b[0m\u001b[0;34m)\u001b[0m\u001b[0;34m\u001b[0m\u001b[0;34m\u001b[0m\u001b[0m\n\u001b[0;32m---> 14\u001b[0;31m \u001b[0mlines\u001b[0m \u001b[0;34m=\u001b[0m \u001b[0mreview_data\u001b[0m\u001b[0;34m.\u001b[0m\u001b[0mvalues\u001b[0m\u001b[0;34m.\u001b[0m\u001b[0mtolist\u001b[0m\u001b[0;34m(\u001b[0m\u001b[0;34m)\u001b[0m\u001b[0;34m\u001b[0m\u001b[0;34m\u001b[0m\u001b[0m\n\u001b[0m\u001b[1;32m     15\u001b[0m \u001b[0;34m\u001b[0m\u001b[0m\n\u001b[1;32m     16\u001b[0m \u001b[0;32mfor\u001b[0m \u001b[0mline\u001b[0m \u001b[0;32min\u001b[0m \u001b[0mlines\u001b[0m\u001b[0;34m:\u001b[0m\u001b[0;34m\u001b[0m\u001b[0;34m\u001b[0m\u001b[0m\n",
            "\u001b[0;31mNameError\u001b[0m: name 'review_data' is not defined"
          ]
        }
      ]
    },
    {
      "cell_type": "markdown",
      "metadata": {
        "id": "43Yuan7QwDFG"
      },
      "source": [
        "### Word2vec 모델 트레이닝"
      ]
    },
    {
      "cell_type": "markdown",
      "metadata": {
        "id": "vJbCqNXh3vVF"
      },
      "source": [
        "인자로 여러가지 선택을 전달해 줄 수 있다. 주요하게 바꿀 수 있는 요소들은 다음과 같다.\n",
        "\n",
        "​\n",
        "\n",
        "architecture: skip-gram (slower, better for infrequent words) vs CBOW (fast)\n",
        "\n",
        "the training algorithm: hierarchical softmax (better for infrequent words) vs negative sampling (better for frequent words, better with low dimensional vectors)\n",
        "\n",
        "sub-sampling of frequent words: can improve both accuracy and speed for large data sets (useful values are in range 1e-3 to 1e-5)\n",
        "\n",
        "dimensionality of the word vectors: usually more is better, but not always\n",
        "\n",
        "context (window) size: for skip-gram usually around 10, for CBOW around 5"
      ]
    },
    {
      "cell_type": "markdown",
      "metadata": {
        "id": "jVHvTHaATqLJ"
      },
      "source": [
        "#### word2vec 방식을 통한 모델링\n"
      ]
    },
    {
      "cell_type": "code",
      "metadata": {
        "colab": {
          "base_uri": "https://localhost:8080/",
          "height": 129
        },
        "id": "911CW6w-Ah9V",
        "outputId": "f189deef-926a-4ff4-b0d9-0e68c6cb4d05"
      },
      "source": [
        "# gensim과 word2vec를 이용해 모델링하는 부분임.\n",
        "\n",
        "'''\n",
        "gensim is python library for training word embeddings in given data\n",
        "for more information visit: \n",
        "1. https://machinelearningmastery.com/develop-word-embeddings-python-gensim/\n",
        "2. http://kavita-ganesan.com/gensim-word2vec-tutorial-starter-code/#.XEoWKVwzbIV\n",
        "'''\n",
        "# 문장 내 각 토큰들끼리의 의미를 고려하여 단어를 벡터로 변화시킴.\n",
        "# 이 결과를 토대로 Embedding Layer에 적용하여 NLP Task를 수행할 수 있음.\n",
        "\n",
        "# sentences : 학습시킬 문장\n",
        "# size : 각 단어에 대해 변환될 벡터의 차원\n",
        "# workers : 실행할 병렬 프로세스 코어 수\n",
        "# min_count : 단어의 최소 빈도수, 이보다 작은 빈도의 단어는 무시됨.\n",
        "# window : 문맥 윈도우 수 (양쪽으로 몇 개까지의 단어를 고려해 의미 파악)\n",
        "embedding_vector_size = 150\n",
        "# now training embeddings for each word \n",
        "model_2 = gensim.models.Word2Vec(sentences = review_lines, size=embedding_vector_size, min_count=1, window=5, workers=4 )\n",
        "\n",
        "# to get total number of unique words\n",
        "words = list(model_2.wv.vocab)\n",
        "\n",
        "print(\"vocab size:\", len(words))"
      ],
      "execution_count": null,
      "outputs": [
        {
          "output_type": "error",
          "ename": "SyntaxError",
          "evalue": "ignored",
          "traceback": [
            "\u001b[0;36m  File \u001b[0;32m\"<ipython-input-3-ad550e8b254a>\"\u001b[0;36m, line \u001b[0;32m12\u001b[0m\n\u001b[0;31m    model_1 = gensim.models.(sentences = review_lines, size=embedding_vector_size, min_count=1, window=5, workers=4 )\u001b[0m\n\u001b[0m                            ^\u001b[0m\n\u001b[0;31mSyntaxError\u001b[0m\u001b[0;31m:\u001b[0m invalid syntax\n"
          ]
        }
      ]
    },
    {
      "cell_type": "markdown",
      "metadata": {
        "id": "4mlL87EGTuLC"
      },
      "source": [
        "#### FastText 를 통한 모델링\n"
      ]
    },
    {
      "cell_type": "code",
      "metadata": {
        "colab": {
          "base_uri": "https://localhost:8080/"
        },
        "id": "PUIkkZ0_U7V_",
        "outputId": "d2cccd62-4c63-4a02-e03e-7f411f9137cc"
      },
      "source": [
        "'''\n",
        "gensim is python library for training word embeddings in given data\n",
        "for more information visit: \n",
        "1. https://machinelearningmastery.com/develop-word-embeddings-python-gensim/\n",
        "2. http://kavita-ganesan.com/gensim-word2vec-tutorial-starter-code/#.XEoWKVwzbIV\n",
        "'''\n",
        "import gensim\n",
        "from gensim.models import FastText\n",
        "\n",
        "embedding_vector_size = 150\n",
        "# now training embeddings for each word \n",
        "model_1 = FastText(sentences = review_lines, size=embedding_vector_size, min_count=1, window=5, workers=4 )  # FastText를 import 하고, word2vec 대신 FastText 함수를 넣으면 돌아간다.\n",
        "\n",
        "# to get total number of unique words\n",
        "words = list(model_1.wv.vocab)\n",
        "\n",
        "print(\"vocab size:\", len(words))"
      ],
      "execution_count": null,
      "outputs": [
        {
          "output_type": "stream",
          "name": "stdout",
          "text": [
            "vocab size: 134197\n"
          ]
        }
      ]
    },
    {
      "cell_type": "code",
      "metadata": {
        "colab": {
          "base_uri": "https://localhost:8080/",
          "height": 296
        },
        "id": "tDxetJFGVyrZ",
        "outputId": "c2238ced-afe1-4238-8303-6100066379a0"
      },
      "source": [
        "#len(sequence)\n",
        "leng=0\n",
        "length = [(leng + len(x)) for x in review_lines]\n",
        "plt.hist(length)\n",
        "plt.xlabel('length of words')\n",
        "plt.ylabel('frequency')"
      ],
      "execution_count": null,
      "outputs": [
        {
          "output_type": "execute_result",
          "data": {
            "text/plain": [
              "Text(0, 0.5, 'frequency')"
            ]
          },
          "metadata": {},
          "execution_count": 17
        },
        {
          "output_type": "display_data",
          "data": {
            "image/png": "[encoded data removed]",
            "text/plain": [
              "<Figure size 432x288 with 1 Axes>"
            ]
          },
          "metadata": {
            "needs_background": "light"
          }
        }
      ]
    },
    {
      "cell_type": "markdown",
      "metadata": {
        "id": "tZOr3IyfwdgN"
      },
      "source": [
        "### 모델 적용\n"
      ]
    },
    {
      "cell_type": "code",
      "metadata": {
        "id": "2Uj91m_UI49L",
        "colab": {
          "base_uri": "https://localhost:8080/"
        },
        "outputId": "e8cefb98-ccce-4aaf-e568-338c0256fd36"
      },
      "source": [
        "import math\n",
        "avg_length = sum(length)/len(review_lines)\n",
        "\n",
        "# if words are more than max_length then they are skipped, if less than padding with 0 is done\n",
        "print(avg_length)"
      ],
      "execution_count": null,
      "outputs": [
        {
          "output_type": "stream",
          "name": "stdout",
          "text": [
            "122.12676\n"
          ]
        }
      ]
    },
    {
      "cell_type": "code",
      "metadata": {
        "id": "5zP5kgmaI75u"
      },
      "source": [
        "#max_len = math.ceil(avg_length)             # this is used to decide how many words in seq to keep\n",
        "max_len = math.ceil(avg_length) "
      ],
      "execution_count": null,
      "outputs": []
    },
    {
      "cell_type": "code",
      "metadata": {
        "id": "1tWllsdUI-56"
      },
      "source": [
        "#  Embedding Vector가 만들어졌으면 길이를 맞춰 병렬연산을 수행하는 작업을 거침.\n",
        "\n",
        "'''\n",
        "Now we have trained the embeddings, we now have embedding vector for each word. We will\n",
        "convert our text training data to numeric using theseword embeddings.\n",
        "First, we need to make length of each input same, therefore we'll do padding. But padding happends \n",
        "on numeric data, therefore we'll convert texts to sequences using tokenize() function. Then add padding\n",
        "Then we'll replace each non-zero numeric resulted from texts to sequences to its corresponding word\n",
        "embedding.\n",
        "'''\n",
        "\n",
        "# 단어를 토큰화하여 가장 빈도가 높은 단어부터 총 6,000개의 단어를 분석에 활용함.\n",
        "# 이후 이를 벡터 형태로 표현하고, pad_sequences를 통해 길이를 동일하게 함.\n",
        "max_features = 6000\n",
        "tokenizer = Tokenizer(num_words=max_features)       #keeps 6000 most common words\n",
        "train_test_data = review_lines                       # contains word tokens extracted from lines\n",
        "tokenizer.fit_on_texts(train_test_data)\n",
        "sequence = tokenizer.texts_to_sequences(train_test_data)\n",
        "train_test_data = pad_sequences(sequence, maxlen = max_len)"
      ],
      "execution_count": null,
      "outputs": []
    },
    {
      "cell_type": "code",
      "metadata": {
        "id": "JQkwQLLOK1sz"
      },
      "source": [
        "# Preparing embedding matrix\n",
        "vocab_size = len(tokenizer.word_index)+1\n",
        "embedding_matrix = np.zeros((vocab_size, embedding_vector_size))\n",
        "# +1 is done because i starts from 1 instead of 0, and goes till len(vocab)\n",
        "for  word, i in tokenizer.word_index.items():\n",
        "    embedding_vector = model_1.wv[word]\n",
        "    if embedding_vector is not None:\n",
        "        embedding_matrix[i] = embedding_vector"
      ],
      "execution_count": null,
      "outputs": []
    },
    {
      "cell_type": "code",
      "metadata": {
        "id": "d4r9UCPCJBBr"
      },
      "source": [
        "X = train_test_data[:ntrain,:]\n",
        "X = np.append(X,train_test_data[ntrain+25000: ,:])\n",
        "X = X.reshape(-1,123)\n",
        "y1 = y"
      ],
      "execution_count": null,
      "outputs": []
    },
    {
      "cell_type": "code",
      "metadata": {
        "id": "1fzqVa6sLmoN"
      },
      "source": [
        "# 파티셔닝을 통해 훈련 데이터와 평가용 데이터를 구분하는 부분.\n",
        "\n",
        "X_train, X_test, y_train, y_test = train_test_split(X , y1, test_size=0.2, random_state=42, shuffle=True)"
      ],
      "execution_count": null,
      "outputs": []
    },
    {
      "cell_type": "code",
      "metadata": {
        "id": "0ztnM0C4Lgpo"
      },
      "source": [
        "# Sequential()을 모델로 선언했으므로 이후 레이어들은 모두 순차적으로 결합됨.\n",
        "model = Sequential()\n",
        "# 문자 입력에 대한 학습을 진행하는 레이어로, 데이터를 벡터화하는 과정을 거침.\n",
        "# input_dim : 단어 사전의 크기, 학습하고자 하는 단어 수와 동일해야 함.\n",
        "# output_dim : 출력 차원\n",
        "# input_length : 한 번에 학습하고자 하는 문장의 길이 (Flatten 레이어가 있다면 반드시 그 직전)\n",
        "model.add(Embedding(input_dim = vocab_size, output_dim = embedding_vector_size, \n",
        "                    input_length = max_len, weights = [embedding_matrix]))\n",
        "# 앞에서부터 단어를 처리하는 순방향 RNN + 뒤에서부터 처리하는 역방향 RNN\n",
        "# 둘을 결합하면 양방향 RNN (Bidirectional RNN)이 됨.\n",
        "# 64개의 노드를 갖고, 이중 0.25에 해당하는 노드가 비활성화됨.\n",
        "# 또한 순환 드롭아웃(Recurrent Dropout)을 통해 순환층의 과대적합을 방지함.\n",
        "model.add(Bidirectional(LSTM(64, dropout=0.25, recurrent_dropout=0.1)))\n",
        "# 10개의 전결합층 형성, 드롭아웃은 0.3으로 0.3에 해당하는 노드가 비활성화됨.\n",
        "model.add(Dense(10))\n",
        "model.add(Dropout(0.3))\n",
        "# 최종 출력은 1 또는 0이며 그에 따라 시그모이드 활성화 함수를 취함.\n",
        "model.add(Dense(1, activation='sigmoid'))"
      ],
      "execution_count": null,
      "outputs": []
    },
    {
      "cell_type": "code",
      "metadata": {
        "id": "CfaHmhCBW6fG"
      },
      "source": [
        "# 현재 학습률을 조정하기 위해 모니터링하는 대상은 성과 지표임. val_loss로 손실 함수를 볼 수 있음.\n",
        "learning_rate_reduction = ReduceLROnPlateau(monitor='val_acc', \n",
        "                                            # 지정한 수만큼의 기간에서 성능 향상이 일어나지 않으면 학습률을 조정함.\n",
        "                                            patience=3, \n",
        "                                            # verbose = 1이면 에포크마다 학습 진행사항을 출력하며, 0이면 과정을 출력하지 않음.\n",
        "                                            verbose=1, \n",
        "                                            # 학습률 조정에 사용되는 새로운 값으로, factor * 기존 학습률 = 새 학습률이 됨.\n",
        "                                            factor=0.5, \n",
        "                                            # 학습률의 하한선으로, 이보다 낮은 학습률로 조정되지 않음.\n",
        "                                            min_lr=0.00001)"
      ],
      "execution_count": null,
      "outputs": []
    },
    {
      "cell_type": "markdown",
      "metadata": {
        "id": "ma8FLxGOy-q4"
      },
      "source": [
        "### 딥러닝\n",
        "#### RMSProp \n",
        " 기울기를 단순 누적하지 않고 지수 가중 이동 평균 Exponentially weighted moving average 를 사용하여 최신 기울기들이 더 크게 반영되도록 하였다.\n",
        "\n",
        " #### Adam\n",
        " RMSProp와 Momentum 기법을 합친 optimizer. Momentum에서 관성계수 m과 함께 계산된 V_t 로 parameter를 업데이트하지만 Adam에서는 기울기 값과 기울기의 제곱값의 지수이동평균을 활용하여 step변화량을 조절한다.\n",
        "\n",
        " 두 방법간 비교해본 결과, 큰 차이는 나타나지 않았음. 비교적 Adam이 로스가 적은듯?\n"
      ]
    },
    {
      "cell_type": "code",
      "metadata": {
        "colab": {
          "base_uri": "https://localhost:8080/"
        },
        "id": "AKnvaU2wW86a",
        "outputId": "f67ec4b8-6396-496a-a080-ef3b44d9e358"
      },
      "source": [
        "# 여기서는 학습 이전에 학습과 관련된 설정을 수행하며, 특히 손실 함수와 최적화 방법을 정의함.\n",
        "\n",
        "# 문제의 유형, 출력층의 활성화 함수, 손실 함수는 서로 연계되어 있음.\n",
        "# 본 데이터는 Cat과 Dog을 분류하는 Binary Classification Problem Type임.\n",
        "# 그에 따라 출력층의 활성화 함수는 Sigmoid, 손실 함수는 binary_crossentropy를 사용함.\n",
        "\n",
        "# 옵티마이저는 케라스 모델의 컴파일에 필요한 또다른 요소이며, 여러 종류가 있음.\n",
        "# 대부분의 CNN 기반 이미지 분류 문제에서 rmsprop을 사용하는데 이유는 당장 알 수 없음.\n",
        "\n",
        "# 메트릭은 평가 기준을 말하며, 일반적인 평가 기준으로 accuracy를 사용함.\n",
        "# 손실 함수와 함꼐 훈련 과정 모니터링에 사용되는 두 지표임.\n",
        "model.compile(optimizer='RMSProp', loss='binary_crossentropy', metrics=['acc'])\n",
        "print(model.summary())\n",
        "\n",
        "# 이미지가 아닌 일반적인 텍스트 데이터로 제네레이터를 따로 사용하지 않았음.\n",
        "# X_train, Y_train : 훈련 데이터셋을 제공함.\n",
        "# Epoch : 전체 데이터셋에 대한 학습 반복 횟수를 지정함.\n",
        "# batch_size : n개의 예측값마다 실제값과 비교하여 가중치를 수정함.\n",
        "# validation_data : 검증용 데이터셋을 제공함.\n",
        "# callbacks : 손실 함수가 감소하지 않거나, 학습률이 더 증가하지 않을 경우를 대비한 Callback Function을 선언함.\n",
        "history = model.fit(X_train, y_train, epochs = 15, batch_size = 700, validation_data=(X_test, y_test),callbacks = [learning_rate_reduction])"
      ],
      "execution_count": null,
      "outputs": [
        {
          "output_type": "stream",
          "name": "stdout",
          "text": [
            "Model: \"sequential\"\n",
            "_________________________________________________________________\n",
            " Layer (type)                Output Shape              Param #   \n",
            "=================================================================\n",
            " embedding (Embedding)       (None, 123, 150)          20129700  \n",
            "                                                                 \n",
            " bidirectional (Bidirectiona  (None, 128)              110080    \n",
            " l)                                                              \n",
            "                                                                 \n",
            " dense (Dense)               (None, 10)                1290      \n",
            "                                                                 \n",
            " dropout (Dropout)           (None, 10)                0         \n",
            "                                                                 \n",
            " dense_1 (Dense)             (None, 1)                 11        \n",
            "                                                                 \n",
            "=================================================================\n",
            "Total params: 20,241,081\n",
            "Trainable params: 20,241,081\n",
            "Non-trainable params: 0\n",
            "_________________________________________________________________\n",
            "None\n",
            "Epoch 1/15\n",
            "29/29 [==============================] - 128s 4s/step - loss: 0.5804 - acc: 0.6941 - val_loss: 0.5099 - val_acc: 0.7546 - lr: 0.0010\n",
            "Epoch 2/15\n",
            "29/29 [==============================] - 117s 4s/step - loss: 0.4559 - acc: 0.7965 - val_loss: 0.4496 - val_acc: 0.8018 - lr: 0.0010\n",
            "Epoch 3/15\n",
            "29/29 [==============================] - 118s 4s/step - loss: 0.4177 - acc: 0.8228 - val_loss: 0.3895 - val_acc: 0.8376 - lr: 0.0010\n",
            "Epoch 4/15\n",
            "29/29 [==============================] - 117s 4s/step - loss: 0.3903 - acc: 0.8335 - val_loss: 0.3730 - val_acc: 0.8486 - lr: 0.0010\n",
            "Epoch 5/15\n",
            "29/29 [==============================] - 117s 4s/step - loss: 0.3740 - acc: 0.8411 - val_loss: 0.3467 - val_acc: 0.8600 - lr: 0.0010\n",
            "Epoch 6/15\n",
            "29/29 [==============================] - 122s 4s/step - loss: 0.3490 - acc: 0.8536 - val_loss: 0.3391 - val_acc: 0.8624 - lr: 0.0010\n",
            "Epoch 7/15\n",
            "29/29 [==============================] - 118s 4s/step - loss: 0.3384 - acc: 0.8596 - val_loss: 0.3599 - val_acc: 0.8502 - lr: 0.0010\n",
            "Epoch 8/15\n",
            "29/29 [==============================] - 119s 4s/step - loss: 0.3186 - acc: 0.8674 - val_loss: 0.3336 - val_acc: 0.8618 - lr: 0.0010\n",
            "Epoch 9/15\n",
            "29/29 [==============================] - ETA: 0s - loss: 0.3058 - acc: 0.8734\n",
            "Epoch 00009: ReduceLROnPlateau reducing learning rate to 0.0005000000237487257.\n",
            "29/29 [==============================] - 117s 4s/step - loss: 0.3058 - acc: 0.8734 - val_loss: 0.3471 - val_acc: 0.8592 - lr: 0.0010\n",
            "Epoch 10/15\n",
            "29/29 [==============================] - 118s 4s/step - loss: 0.2747 - acc: 0.8875 - val_loss: 0.3191 - val_acc: 0.8766 - lr: 5.0000e-04\n",
            "Epoch 11/15\n",
            "29/29 [==============================] - 122s 4s/step - loss: 0.2706 - acc: 0.8917 - val_loss: 0.3360 - val_acc: 0.8658 - lr: 5.0000e-04\n",
            "Epoch 12/15\n",
            "29/29 [==============================] - 119s 4s/step - loss: 0.2623 - acc: 0.8962 - val_loss: 0.3265 - val_acc: 0.8744 - lr: 5.0000e-04\n",
            "Epoch 13/15\n",
            "29/29 [==============================] - ETA: 0s - loss: 0.2567 - acc: 0.8985\n",
            "Epoch 00013: ReduceLROnPlateau reducing learning rate to 0.0002500000118743628.\n",
            "29/29 [==============================] - 119s 4s/step - loss: 0.2567 - acc: 0.8985 - val_loss: 0.3167 - val_acc: 0.8732 - lr: 5.0000e-04\n",
            "Epoch 14/15\n",
            "29/29 [==============================] - 118s 4s/step - loss: 0.2425 - acc: 0.9054 - val_loss: 0.3275 - val_acc: 0.8758 - lr: 2.5000e-04\n",
            "Epoch 15/15\n",
            "29/29 [==============================] - 119s 4s/step - loss: 0.2420 - acc: 0.9042 - val_loss: 0.3268 - val_acc: 0.8768 - lr: 2.5000e-04\n"
          ]
        }
      ]
    },
    {
      "cell_type": "code",
      "metadata": {
        "colab": {
          "base_uri": "https://localhost:8080/",
          "height": 279
        },
        "id": "fq_AeSpTXDtf",
        "outputId": "32871bbd-0be2-487a-808f-590bfc27e67b"
      },
      "source": [
        "import matplotlib.pyplot as plt\n",
        "plt.plot(history.history['acc'])\n",
        "plt.plot(history.history['val_acc'])\n",
        "plt.ylabel('loss')\n",
        "plt.xlabel('epoch')\n",
        "plt.legend(['train', 'test'], loc='upper left')\n",
        "plt.show()"
      ],
      "execution_count": null,
      "outputs": [
        {
          "output_type": "display_data",
          "data": {
            "image/png": "[encoded data removed]",
            "text/plain": [
              "<Figure size 432x288 with 1 Axes>"
            ]
          },
          "metadata": {
            "needs_background": "light"
          }
        }
      ]
    },
    {
      "cell_type": "code",
      "metadata": {
        "id": "rLpWRfDoXFPm"
      },
      "source": [
        "# 평가용 데이터와 모델에 기반한 예측을 수행함.\n",
        "y_test_pred = model.predict(X_test)"
      ],
      "execution_count": null,
      "outputs": []
    },
    {
      "cell_type": "code",
      "metadata": {
        "colab": {
          "base_uri": "https://localhost:8080/"
        },
        "id": "AHOWkmx7XGtG",
        "outputId": "9bee5eb8-b280-40a6-c4b9-c01cea9fffba"
      },
      "source": [
        "# roc_auc_score : ROC 곡선 아래 면적에 기반한 점수, TPR이나 FPR을 복합적으로 고려하여 평가함.\n",
        "from sklearn.metrics import roc_auc_score\n",
        "roc_auc_score(y_test, y_test_pred, average = 'weighted')"
      ],
      "execution_count": null,
      "outputs": [
        {
          "output_type": "execute_result",
          "data": {
            "text/plain": [
              "0.9462876175727911"
            ]
          },
          "metadata": {},
          "execution_count": 29
        }
      ]
    },
    {
      "cell_type": "code",
      "metadata": {
        "id": "oJj1P3ygXIu0"
      },
      "source": [
        "#predicting test_data\n",
        "y_pred = model.predict(train_test_data[ntrain:ntrain+25000 , :])"
      ],
      "execution_count": null,
      "outputs": []
    },
    {
      "cell_type": "code",
      "metadata": {
        "id": "kxpEvvtWXKlZ"
      },
      "source": [
        "# 0.5 cutoff를 사용함. 하이퍼파라미터이므로 바뀔 수 있음.\n",
        "predictions = [1 if (x>0.5) else 0 for x in y_pred ]"
      ],
      "execution_count": null,
      "outputs": []
    },
    {
      "cell_type": "code",
      "metadata": {
        "id": "D7xYI4akXRV_"
      },
      "source": [
        "predictions = pd.Series(predictions)"
      ],
      "execution_count": null,
      "outputs": []
    },
    {
      "cell_type": "code",
      "metadata": {
        "id": "VsWDYSqGXSjQ"
      },
      "source": [
        "ids = raw_test_data['id'].str.replace('\"', '')"
      ],
      "execution_count": null,
      "outputs": []
    },
    {
      "cell_type": "code",
      "metadata": {
        "id": "lFWPAtzHXUci"
      },
      "source": [
        "submission = pd.DataFrame({'id': ids, 'sentiment':predictions})\n",
        "submission.to_csv('word2vec_model2.csv',index=False)"
      ],
      "execution_count": null,
      "outputs": []
    }
  ]
}